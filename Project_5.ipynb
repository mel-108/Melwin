{
  "cells": [
    {
      "cell_type": "markdown",
      "metadata": {
        "id": "view-in-github",
        "colab_type": "text"
      },
      "source": [
        "<a href=\"https://colab.research.google.com/github/mel-108/Melwin/blob/main/Project_5.ipynb\" target=\"_parent\"><img src=\"https://colab.research.google.com/assets/colab-badge.svg\" alt=\"Open In Colab\"/></a>"
      ]
    },
    {
      "cell_type": "code",
      "source": [
        "\n",
        "!pip install ColabTurtlePlus\n",
        "from ColabTurtlePlus.Turtle import *\n",
        "\n",
        "def yin(radius, color1, color2):\n",
        "    width(3)\n",
        "    color(\"black\", color1)\n",
        "    begin_fill()\n",
        "    circle(radius/2., 180)\n",
        "    circle(radius, 180)\n",
        "    left(180)\n",
        "    circle(-radius/2., 180)\n",
        "    end_fill()\n",
        "\n",
        "    left(90)\n",
        "    penup()\n",
        "    forward(radius * 0.35)\n",
        "    right(90)\n",
        "    pendown()\n",
        "    color(color1, color2)\n",
        "    begin_fill()\n",
        "    circle(radius * 0.15)\n",
        "    end_fill()\n",
        "\n",
        "    left(90)\n",
        "    penup()\n",
        "    backward(radius * 0.35)\n",
        "    pendown()\n",
        "    left(90)\n",
        "\n",
        "def main():\n",
        "    # ✅ Pass tuple (width, height)\n",
        "    initializeTurtle(window=(800, 600))\n",
        "    bgcolor(\"white\")\n",
        "    speed(10)\n",
        "\n",
        "    yin(200, \"black\", \"white\")\n",
        "    yin(200, \"white\", \"black\")\n",
        "    hideturtle()\n",
        "\n",
        "main()"
      ],
      "metadata": {
        "colab": {
          "base_uri": "https://localhost:8080/",
          "height": 746
        },
        "id": "G2Gr1c4otzui",
        "outputId": "776da484-4605-4b6a-e8c4-a30d021ee3b2"
      },
      "execution_count": 1,
      "outputs": [
        {
          "output_type": "stream",
          "name": "stdout",
          "text": [
            "Collecting ColabTurtlePlus\n",
            "  Downloading ColabTurtlePlus-2.0.1-py3-none-any.whl.metadata (10 kB)\n",
            "Downloading ColabTurtlePlus-2.0.1-py3-none-any.whl (31 kB)\n",
            "Installing collected packages: ColabTurtlePlus\n",
            "Successfully installed ColabTurtlePlus-2.0.1\n",
            "Put clearscreen() as the first line in a cell (after the import command) to re-run turtle commands in the cell\n"
          ]
        },
        {
          "output_type": "display_data",
          "data": {
            "text/plain": [
              "<IPython.core.display.HTML object>"
            ],
            "text/html": [
              "\n",
              "      <svg width=\"800\" height=\"600\">  \n",
              "        <rect width=\"100%\" height=\"100%\" style=\"fill:white;stroke:;stroke-width:1\"/>\n",
              "        \n",
              "        \n",
              "        <path fill-rule=\"evenodd\" fill-opacity=\"1\" d=\"M 400.0 300.0  A 100.0 100.0 0 0 0 400.0 100.0  A 200 200 0 0 0 400.0 500.0  A -100.0 -100.0 0 0 1 400.0 300.0 \" stroke-linecap=\"round\" style=\"stroke:black;stroke-width:3\" fill=\"black\" /><path fill-rule=\"evenodd\" fill-opacity=\"1\" d=\"M 400.0 230.0  A 30.0 30.0 0 0 0 400.0 170.0  A 30.0 30.0 0 0 0 400.0 230.0 \" stroke-linecap=\"round\" style=\"stroke:black;stroke-width:3\" fill=\"white\" /><path fill-rule=\"evenodd\" fill-opacity=\"1\" d=\"M 400.0 300.0  A 100.0 100.0 0 0 0 400.0 500.0  A 200 200 0 0 0 400.0 100.0  A -100.0 -100.0 0 0 1 400.0 300.0 \" stroke-linecap=\"round\" style=\"stroke:black;stroke-width:3\" fill=\"white\" /><path fill-rule=\"evenodd\" fill-opacity=\"1\" d=\"M 400.0 370.0  A 30.0 30.0 0 0 0 400.0 430.0  A 30.0 30.0 0 0 0 400.0 370.0 \" stroke-linecap=\"round\" style=\"stroke:white;stroke-width:3\" fill=\"black\" />\n",
              "        \n",
              "        \n",
              "        <g id=\"classic\" visibility=\"hidden\" transform=\"rotate(-90.0,400.0,300.0) translate(400.0, 300.0)\">\n",
              "<polygon points=\"-5,-4.5 0,-2.5 5,-4.5 0,4.5\" transform=\"skewX(0) scale(1,1)\" style=\"stroke:white;fill:black;stroke-width:1\" />\n",
              "</g>\n",
              "      </svg>\n",
              "    "
            ]
          },
          "metadata": {}
        }
      ]
    }
  ],
  "metadata": {
    "colab": {
      "provenance": [],
      "authorship_tag": "ABX9TyNm0uDzEcuXve9UTnwFENgF",
      "include_colab_link": true
    },
    "kernelspec": {
      "display_name": "Python 3",
      "name": "python3"
    },
    "language_info": {
      "name": "python"
    }
  },
  "nbformat": 4,
  "nbformat_minor": 0
}